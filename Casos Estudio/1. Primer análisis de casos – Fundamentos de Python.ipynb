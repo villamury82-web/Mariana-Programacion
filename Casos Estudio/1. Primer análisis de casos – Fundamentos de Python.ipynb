{
 "cells": [
  {
   "cell_type": "markdown",
   "metadata": {
    "id": "q7R3dARlFtDY"
   },
   "source": [
    "# Primer análisis de casos – Fundamentos de Python\n",
    "\n",
    "## Objetivo:\n",
    "En esta tarea, practicaremos los fundamentos básicos de Python resolviendo **cuatro ejercicios** de la lista planteada. Cada solución debe detallar **entradas**, **procesos** y **salidas** para comprender mejor cómo funciona cada problema.\n",
    "\n",
    "### Formato para cada ejercicio (seleccionemos 4 ejercicios):\n",
    "#### Ejercicio X:\n",
    "- **Descripción del problema:** Incluiremos el enunciado del ejercicio.\n",
    "- **Entradas:** Detallaremos los datos que debemos ingresar.\n",
    "- **Proceso:** Explicaremos cómo resolveremos el problema (algoritmo o fórmula).\n",
    "- **Salidas:** Describiremos el resultado que veremos en pantalla al final del proceso.\n",
    "\n",
    "#### Código del ejercicio:\n",
    "- Escribiremos la solución del ejercicio en una celda de código Python.\n",
    "- Agregaremos comentarios para explicar el código y hacerlo más comprensible.\n",
    "\n",
    "### Conclusión:\n",
    "- Al final, resumiremos lo que hemos aprendido resolviendo los ejercicios.\n",
    "- Reflexionaremos sobre cómo Python nos ayuda a solucionar problemas cotidianos.\n",
    "\n",
    "## Formato de entrega del informe en PDF:\n",
    "\n",
    "Debemos exportar nuestro notebook de Jupyter a formato PDF, cumpliendo con las siguientes pautas:\n",
    "\n",
    "### Portada:\n",
    "- Título: \"Primer análisis de casos – Fundamentos de Python\".\n",
    "- Nuestro nombre completo.\n",
    "- Fecha de entrega.\n",
    "- Curso.\n",
    "\n",
    "### Cuerpo del informe:\n",
    "- **Introducción:** Explicaremos brevemente los ejercicios que hemos seleccionado.\n",
    "- **Desarrollo de cada ejercicio:**\n",
    "  - Descripción del problema.\n",
    "  - Entradas, procesos y salidas detallados.\n",
    "  - Capturas de pantalla del código y del resultado de la ejecución.\n",
    "\n",
    "### Conclusión:\n",
    "- Reflexionaremos sobre el aprendizaje y las posibles dificultades que enfrentamos durante la resolución de los ejercicios.\n",
    "\n",
    "## Lista de ejercicios (Seleccionemos 4):\n",
    "\n",
    "1. Calcular el área de un triángulo a partir de la base y altura ingresadas.\n",
    "2. Convertir una cantidad de dólares a colones.\n",
    "3. Convertir grados centígrados a Fahrenheit.\n",
    "4. Mostrar cuántos segundos tiene un lustro.\n",
    "5. Calcular el tiempo que le toma a la luz viajar del sol a Marte.\n",
    "6. Calcular cuántas vueltas da una llanta en 1 km.\n",
    "7. Calcular la longitud de la sombra de un edificio de 20 metros.\n",
    "8. Comparar si la edad ingresada por dos usuarios es la misma.\n",
    "9. Calcular cuántos meses han transcurrido desde nuestra fecha de nacimiento.\n",
    "10. Calcular el promedio de un alumno en 5 materias.\n",
    "\n",
    "## Proceso de entrega:\n",
    "1. Resolveremos 4 de los ejercicios propuestos en un notebook de.\n",
    "2. Exportaremos el notebook a PDF siguiendo el formato establecido.\n",
    "3. Subiremos el PDF y el archivo de notebook (.ipynb) a la plataforma antes de la fecha límite.\n"
   ]
  },
  {
   "cell_type": "markdown",
   "metadata": {},
   "source": [
    "# Problema #1\n",
    "\n",
    "### Convertir una cantidad de dólares a colones.\n",
    "\n",
    "## Entrada: \n",
    "Leer La cantidad de dolares\n",
    "Leer tipo cambio\n",
    "\n",
    "## Proceso:\n",
    "\n",
    "cantidad_dolares * tipo_cambio\n",
    "\n",
    "## Salida:\n",
    "\n",
    "resultado de la multiplicacion"
   ]
  },
  {
   "cell_type": "code",
   "execution_count": 4,
   "metadata": {
    "colab": {
     "base_uri": "https://localhost:8080/"
    },
    "executionInfo": {
     "elapsed": 10485,
     "status": "ok",
     "timestamp": 1712064323417,
     "user": {
      "displayName": "Andrés Mena Abarca",
      "userId": "07418092259593836578"
     },
     "user_tz": 360
    },
    "id": "n3rOsUESDeTs",
    "outputId": "1cd40ed7-f1d2-4b89-bca5-696418df0021"
   },
   "outputs": [
    {
     "name": "stdout",
     "output_type": "stream",
     "text": [
      "El tipo de cambio es la multiplicacion de 512 * 219 = 112128\n"
     ]
    }
   ],
   "source": [
    "# Código solución aqui\n",
    "num1 = 512\n",
    "num2 = 219\n",
    "cantidad = num1 * num2\n",
    "print(f\"El tipo de cambio es la multiplicacion de {num1} * {num2} = {cantidad}\")"
   ]
  },
  {
   "cell_type": "markdown",
   "metadata": {},
   "source": [
    "# Problema #2\n",
    "# Calcular el área de un triángulo a partir de la base y altura ingresadas\n",
    "### Definir problema\n",
    "# Identificar el área de un triángulo a partir de la base y la altura ingresadas\n",
    "## Entrada:\n",
    "# base = cantidad asignada\n",
    "# altura = cantidad asignada\n",
    "## Proceso:\n",
    "# area = base * altura / 2\n",
    "# se divide entre 2\n",
    "## Salida:\n",
    "# El resultado de la multiplicación entre 2"
   ]
  },
  {
   "cell_type": "code",
   "execution_count": 2,
   "metadata": {},
   "outputs": [
    {
     "name": "stdout",
     "output_type": "stream",
     "text": [
      "\n",
      "El resultado del area del triangulo es = 300.0\n"
     ]
    }
   ],
   "source": [
    "# Código solucción aqui\n",
    "base = int(input(\"Ingrese la medida de la base del triangrulo\"))\n",
    "altura = int(input(\"Ingrese la medida de la altura del triangrulo\"))\n",
    "area = (base * altura) / 2\n",
    "area = print (f\"\\nEl resultado del area del triangulo es = {area}\")\n"
   ]
  },
  {
   "cell_type": "markdown",
   "metadata": {},
   "source": [
    "# Problema #3\n",
    "\n",
    "### Definir problema\n",
    "# Comparar si la edad ingresada por dos usuarios es la misma.\n",
    "\n",
    "## Entrada:\n",
    "# vamos a comparar dos edades\n",
    "# edad1 = cantidad asignada\n",
    "# edad2 = cantidad asignada\n",
    "\n",
    "## Proceso:\n",
    "# si la edad1 = edad2\n",
    "## Salida:\n",
    "# Comparar las dos edades y ver si son iguales"
   ]
  },
  {
   "cell_type": "code",
   "execution_count": 15,
   "metadata": {},
   "outputs": [
    {
     "ename": "IndentationError",
     "evalue": "expected an indented block after 'if' statement on line 4 (737006433.py, line 5)",
     "output_type": "error",
     "traceback": [
      "  \u001b[36mCell\u001b[39m\u001b[36m \u001b[39m\u001b[32mIn[15]\u001b[39m\u001b[32m, line 5\u001b[39m\n\u001b[31m    \u001b[39m\u001b[31mprint(f\"Ambos usuarios tienen la misma edad: {edad1}\")\u001b[39m\n    ^\n\u001b[31mIndentationError\u001b[39m\u001b[31m:\u001b[39m expected an indented block after 'if' statement on line 4\n"
     ]
    }
   ],
   "source": [
    "# Código solucción aqui\n",
    "edad1 = int(input(\"Ingrese la edad del primer usuario\"))\n",
    "edad2 = int(input(\"Ingrese la edad del segundo usuario\"))\n",
    "if edad1 == edad2 :\n",
    "print(f\"Ambos usuarios tienen la misma edad: {edad1}\")\n",
    "edad1 > edad2 =\n",
    "print(f\"El primer usuario {edad1} es mayor que el segundo {edad2}\")\n",
    "edad1 < edad2 =\n",
    "print(f\"El segundo usuario {edad2} es mayor que el primero {edad1}\")"
   ]
  },
  {
   "cell_type": "markdown",
   "metadata": {},
   "source": [
    "# Problema #4\n",
    "\n",
    "### Definir problema\n",
    "#Calcular el promedio de un alumno en 5 materias.\n",
    "## Entrada:\n",
    "# Ingresar la nota de musica\n",
    "# Ingresar la nota de matemática\n",
    "# Ingresar la nota de ciencias\n",
    "# Ingresar la nota de español\n",
    "# Ingresar la nota de estudios sociales\n",
    "## Proceso:\n",
    "# Averiguar el promedio de las cinco materias\n",
    "## Salida:\n",
    "# Resultado del promedio de las cinco materias"
   ]
  },
  {
   "cell_type": "code",
   "execution_count": 16,
   "metadata": {},
   "outputs": [
    {
     "name": "stdout",
     "output_type": "stream",
     "text": [
      "\n",
      "El promedio final es: 82.4.\n"
     ]
    }
   ],
   "source": [
    "# Código solucción aqui\n",
    "Nota_final_de_musica = int(input(\"\\nIngrese la nota final de musica:  \"))\n",
    "Nota_final_de_matematica = int(input(\"\\nIngrese la nota final de matematica:  \"))\n",
    "Nota_final_de_ciencias = int(input(\"\\nIngrese la nota final de ciencias:  \"))\n",
    "Nota_final_de_espanol = int(input(\"\\nIngrese la nota final de espanol:  \"))\n",
    "Nota_final_de_estudios_sociales = int(input(\"\\nIngrese la nota final de estudios sociales:  \"))\n",
    "\n",
    "Promedio = (Nota_final_de_musica + Nota_final_de_matematica + Nota_final_de_ciencias + Nota_final_de_espanol + Nota_final_de_estudios_sociales) / 5\n",
    "print(f\"\\nEl promedio final es: {Promedio}.\")"
   ]
  }
 ],
 "metadata": {
  "colab": {
   "provenance": []
  },
  "kernelspec": {
   "display_name": "Python 3",
   "name": "python3"
  },
  "language_info": {
   "codemirror_mode": {
    "name": "ipython",
    "version": 3
   },
   "file_extension": ".py",
   "mimetype": "text/x-python",
   "name": "python",
   "nbconvert_exporter": "python",
   "pygments_lexer": "ipython3",
   "version": "3.13.7"
  }
 },
 "nbformat": 4,
 "nbformat_minor": 0
}
