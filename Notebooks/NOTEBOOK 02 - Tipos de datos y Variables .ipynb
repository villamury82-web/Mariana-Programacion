{
 "cells": [
  {
   "cell_type": "markdown",
   "metadata": {},
   "source": [
    "# NOTEBOOK 02 - Tipos de datos y Variables\n",
    "## 🚀 Laboratorio Práctico: Fundamentos y Calculador de Pedidos\n",
    "### Prof: Ing. Andrés Mena Abarca\n",
    "\n",
    "> ## Nombre del estudiante: Mariana Villalta"
   ]
  },
  {
   "cell_type": "markdown",
   "metadata": {},
   "source": [
    "---\n",
    "\n",
    "## 1. Variables y Tipos de Datos\n",
    "\n",
    "### **Teoría Básica:**\n",
    "Para construir cualquier programa, necesitamos **variables** (espacios de memoria) y **tipos de datos** para clasificar la información.\n",
    "\n",
    "| Tipo de Dato | Propósito en el 'Calculador de Pedidos' | Ejemplos |\n",
    "|:-------------|:----------------------------------------|:---------|\n",
    "| **`str`** (Texto) | Nombres de productos y mensajes. | `'Mouse Gaming'`, `'Total a pagar'` |\n",
    "| **`float`** (Decimal) | Precios, impuestos, subtotales. | `49.99`, `0.13` (para 13%) |\n",
    "| **`int`** (Entero) | Cantidades de productos (unidades). | `1`, `5`, `100` |\n",
    "| **`bool`** (Lógico) | Para saber si aplica un descuento. | `True`, `False` |\n",
    "\n",
    "### **Ejercicio 1.1: Inicializando el Inventario**\n",
    "Define las variables de un producto y una tasa de impuesto. Usa `type()` para confirmar que asignaste el tipo correcto."
   ]
  },
  {
   "cell_type": "code",
   "execution_count": 1,
   "metadata": {},
   "outputs": [
    {
     "name": "stdout",
     "output_type": "stream",
     "text": [
      "Tipo de nombre: <class 'str'>\n",
      "Tipo de precio: <class 'float'>\n",
      "Tipo de impuesto: <class 'float'>\n"
     ]
    }
   ],
   "source": [
    "# 1. Define el nombre del producto (str) nombre_producto\n",
    "nombre_producto = \"botella de agua\"\n",
    "\n",
    "# 2. Define el precio unitario del producto (float) precio_unitario\n",
    "\n",
    "precio_unitario = 30.99\n",
    "\n",
    "# 3. Define la tasa de impuesto (float) tasa_impuesto\n",
    "\n",
    "tasa_impuesto = 0.13\n",
    "\n",
    "# Confirma los tipos de datos con print() y type()\n",
    "print(\"Tipo de nombre:\", type(nombre_producto))\n",
    "print(\"Tipo de precio:\", type(precio_unitario))\n",
    "print(\"Tipo de impuesto:\", type(tasa_impuesto))"
   ]
  },
  {
   "cell_type": "markdown",
   "metadata": {},
   "source": [
    "---\n",
    "\n",
    "## 2. Entrada, Salida y Conversión de Tipos\n",
    "\n",
    "### **Teoría:**\n",
    "Usamos `print()` para mostrar mensajes y `input()` para capturar datos.\n",
    "\n",
    "> 🛑 **¡ATENCIÓN!** La función `input()` siempre devuelve una cadena de texto (`str`). Para hacer cálculos, debemos convertir este texto a `int()` o `float()`.\n",
    "\n",
    "| Función de Conversión | Uso | Ejemplo |\n",
    "|:----------------------|:----|:--------|\n",
    "| `int(valor)` | Convierte un valor a **entero**. | `int(\"5\")` $\\rightarrow$ `5` |\n",
    "| `float(valor)` | Convierte un valor a **decimal**. | `float(\"10.99\")` $\\rightarrow$ `10.99` |\n",
    "\n",
    "### **Ejercicio 2.1: Captura y Conversión de Cantidad**\n",
    "Usa `input()` para preguntar la cantidad y luego **convierte a `int()`** para asegurar que se pueda multiplicar."
   ]
  },
  {
   "cell_type": "code",
   "execution_count": 16,
   "metadata": {},
   "outputs": [
    {
     "name": "stdout",
     "output_type": "stream",
     "text": [
      "Cantidad capturada con tipo: <class 'int'>\n",
      "Resultado del cálculo de subtotal: 619.8\n"
     ]
    }
   ],
   "source": [
    "# 1. Captura la cantidad como texto (str) usando input()\n",
    "cantidad_str = input(f\"¿Cuántas unidades de {nombre_producto} desea comprar? \")\n",
    "\n",
    "\n",
    "# 2. Convierte la cadena a un número entero (int) y asigna a la variable 'cantidad'\n",
    "\n",
    "#cantidad = int(cantidad_str)\n",
    "cantidad = int(cantidad_str)\n",
    "\n",
    "print(\"Cantidad capturada con tipo:\", type(cantidad))\n",
    "print(\"Resultado del cálculo de subtotal:\", precio_unitario * cantidad)"
   ]
  },
  {
   "cell_type": "markdown",
   "metadata": {},
   "source": [
    "---\n",
    "\n",
    "## 3. Operadores Matemáticos: El Tícket Final\n",
    "\n",
    "### **Teoría:**\n",
    "Los operadores matemáticos (`+`, `-`, `*`, `/`, `%`, `//`) nos permiten procesar los datos numéricos.\n",
    "\n",
    "### **Ejercicio 3.1: Cálculo Completo del Tícket**\n",
    "Usando las variables de los ejercicios anteriores, calcula el subtotal, el monto de impuesto y el total final."
   ]
  },
  {
   "cell_type": "code",
   "execution_count": 17,
   "metadata": {},
   "outputs": [
    {
     "name": "stdout",
     "output_type": "stream",
     "text": [
      "\n",
      "--- TÍCKET DE COMPRA ---\n",
      "Producto: botella de agua\n",
      "Cantidad: 20\n",
      "Subtotal: $619.80\n",
      "Impuesto (13.0%): $80.57\n",
      "TOTAL FINAL: $700.37\n"
     ]
    }
   ],
   "source": [
    "# 1. Calcular el subtotal (precio * cantidad) subtotal\n",
    "\n",
    "subtotal = precio_unitario * cantidad\n",
    "\n",
    "\n",
    "# 2. Calcular el monto de impuesto (subtotal * tasa_impuesto) monto_impuesto\n",
    "\n",
    "monto_impuesto = subtotal * tasa_impuesto\n",
    "\n",
    "# 3. Calcular el total final (subtotal + monto_impuesto) total_final\n",
    "\n",
    "total_final = subtotal + monto_impuesto\n",
    "\n",
    "# Imprimir el tícket usando f-strings para darle formato\n",
    "print(\"\\n--- TÍCKET DE COMPRA ---\")\n",
    "print(f\"Producto: {nombre_producto}\")\n",
    "print(f\"Cantidad: {cantidad}\")\n",
    "print(f\"Subtotal: ${subtotal:.2f}\")\n",
    "print(f\"Impuesto ({tasa_impuesto*100}%): ${monto_impuesto:.2f}\")\n",
    "print(f\"TOTAL FINAL: ${total_final:.2f}\")\n"
   ]
  },
  {
   "cell_type": "markdown",
   "metadata": {},
   "source": [
    "### **Reto con Módulo ($\\%$)**\n",
    "Usa el operador módulo (`%`) para ver si el cliente compró una cantidad par de productos. Recuerda que un número es par si el resto de su división entre 2 es 0."
   ]
  },
  {
   "cell_type": "code",
   "execution_count": 18,
   "metadata": {},
   "outputs": [
    {
     "name": "stdout",
     "output_type": "stream",
     "text": [
      "¿La cantidad comprada 20 es par? True\n"
     ]
    }
   ],
   "source": [
    "# Usa el operador % y el operador == para obtener un booleano (True/False)\n",
    "\n",
    "es_par = (cantidad % 2 == 0)\n",
    "\n",
    "print(f\"¿La cantidad comprada {cantidad} es par? {es_par}\")"
   ]
  },
  {
   "cell_type": "markdown",
   "metadata": {},
   "source": [
    "---\n",
    "\n",
    "## 4. Operadores de Comparación y Lógicos\n",
    "\n",
    "### **Teoría:**\n",
    "Los **operadores de comparación** (`>`, `<`, `==`, `!=`, etc.) generan valores booleanos (`True/False`). Los **operadores lógicos** (`and`, `or`, `not`) combinan esos resultados.\n",
    "\n",
    "| Operador | Significado | Resultado (Ejemplo con $A=10$, $B=5$) |\n",
    "|:---------|:------------|:-----------------------------------------|\n",
    "| `>` | Mayor que | $A > B \\rightarrow$ `True` |\n",
    "| `==` | Igual a | $A == B \\rightarrow$ `False` |\n",
    "| `and` | Ambos `True` | $(A > 0) \\text{ and } (B > 0) \\rightarrow$ `True` |\n",
    "| `or` | Al menos uno `True` | $(A > 20) \\text{ or } (B < 10) \\rightarrow$ `True` |\n",
    "\n",
    "### **Ejercicio 4.1: Calificar para un Descuento (AND)**\n",
    "Un cliente obtiene un descuento si se cumplen **ambas** condiciones:\n",
    "\n",
    "1. **(El Total Final es mayor a $100$ )** \n",
    "2. **(Compró 2 o más unidades)**"
   ]
  },
  {
   "cell_type": "code",
   "execution_count": 19,
   "metadata": {},
   "outputs": [
    {
     "name": "stdout",
     "output_type": "stream",
     "text": [
      "Condición A (Monto Alto): True\n",
      "Condición B (Múltiples unidades): True\n",
      "\n",
      "RESULTADO: ¿Aplica descuento? True\n"
     ]
    }
   ],
   "source": [
    "# 1. Condición A: El total final es mayor a $100\n",
    "\n",
    "es_monto_alto = total_final > 100\n",
    "\n",
    "print(f\"Condición A (Monto Alto): {es_monto_alto}\")\n",
    "\n",
    "# 2. Condición B: Compró 2 o más unidades\n",
    "\n",
    "es_compra_multiple = cantidad >= 2\n",
    "\n",
    "print(f\"Condición B (Múltiples unidades): {es_compra_multiple}\")\n",
    "\n",
    "# 3. Combinar con el operador AND (ambas deben ser True)\n",
    "\n",
    "aplica_descuento = es_monto_alto and es_compra_multiple\n",
    "\n",
    "print(f\"\\nRESULTADO: ¿Aplica descuento? {aplica_descuento}\")"
   ]
  },
  {
   "cell_type": "markdown",
   "metadata": {},
   "source": [
    "### **Ejercicio 4.2: Promoción por Fidelidad (OR)**\n",
    "El cliente recibe un regalo si se cumple **al menos una** de las condiciones:\n",
    "\n",
    "1. **(Compra 3 o más unidades)**\n",
    "2. **(Es un cliente VIP)**. (Define la variable `es_cliente_vip` como `True` o `False`)."
   ]
  },
  {
   "cell_type": "code",
   "execution_count": 20,
   "metadata": {},
   "outputs": [
    {
     "name": "stdout",
     "output_type": "stream",
     "text": [
      "¿Recibe regalo por promoción? True\n"
     ]
    }
   ],
   "source": [
    "# Define la variable booleana 'es_cliente_vip' (True/False)\n",
    "\n",
    "es_cliente_vip = False\n",
    "\n",
    "# Condición A: Compró 3 o más unidades 'es_compra_grande' \n",
    "es_compra_grande = cantidad >= 3 \n",
    "\n",
    "# Combinar con el operador OR (solo una debe ser True) para obtener 'recibe_regalo'\n",
    "recibe_regalo = es_compra_grande or es_cliente_vip\n",
    "\n",
    "print(f\"¿Recibe regalo por promoción? {recibe_regalo}\")"
   ]
  },
  {
   "cell_type": "markdown",
   "metadata": {},
   "source": [
    "---\n",
    "\n",
    "## 5. Repaso Individual Integrado\n",
    "\n",
    "Escribe un programa completo que le pida al usuario que ingrese **dos números** (`num1` y `num2`) y realice lo siguiente:\n",
    "\n",
    "1. **Entrada y Conversión:** Solicita los dos números y conviértelos a `float`.\n",
    "2. **Cálculos:** Calcula la suma y el producto de ambos números.\n",
    "3. **Lógica:** Determina si la **suma es par** **Y** si **el producto es mayor que 50**.\n",
    "\n",
    "*(Pista: Para verificar si la suma es par, debes convertir la suma a `int` antes de usar el operador módulo ($\\%$).)*"
   ]
  },
  {
   "cell_type": "code",
   "execution_count": 22,
   "metadata": {},
   "outputs": [
    {
     "name": "stdout",
     "output_type": "stream",
     "text": [
      "\n",
      "--- RESULTADOS ---\n",
      "Suma: 100.1, Producto: 2505.0\n",
      "CONDICIÓN FINAL (Par Y Alto): True\n"
     ]
    }
   ],
   "source": [
    "# 1. Entrada y Conversión (usar input() y float())\n",
    "\n",
    "num1 = float(input(\"Digite el primer número: \"))\n",
    "num2 = float(input(\"Digite el segundo número: \"))\n",
    "# 2. Cálculos (suma y producto)\n",
    "suma = num1 + num2\n",
    "producto = num1 * num2\n",
    "\n",
    "# 3. Lógica y Operadores\n",
    "\n",
    "es_par = int(suma) % 2\n",
    "mayor_a_cincuenta = producto > 50  \n",
    "\n",
    "# Resultado final con AND\n",
    "\n",
    "condicion_final = (es_par == 0 ) and mayor_a_cincuenta\n",
    "\n",
    "print(\"\\n--- RESULTADOS ---\")\n",
    "print(f\"Suma: {suma}, Producto: {producto}\")\n",
    "print(f\"CONDICIÓN FINAL (Par Y Alto): {condicion_final}\")"
   ]
  },
  {
   "cell_type": "markdown",
   "metadata": {},
   "source": [
    "---\n",
    "## 6. 💖 DESAFÍO FINAL COLABORATIVO: LA CITA PERFECTA (Trabajo en Parejas) 💖\n",
    "\n",
    "**Objetivo:** Aplicar **variables**, **conversión de tipos**, **operadores matemáticos**, y **operadores lógicos** para determinar si un plan de cita es exitoso.\n",
    "\n",
    "### Instrucciones Clave para la Pareja:\n",
    "\n",
    "1.  **Dividan los roles:** Uno será el **Planificador (Estudiante A)** y el otro el **Cálculo de Éxito (Estudiante B)**.\n",
    "2.  **Completen las líneas:** Solo deben modificar las líneas marcadas con `### COMPLETAR ###`.\n",
    "3.  **Colaboración:** El Planificador ingresa los datos de entrada (costos) y la preferencia de actividad. El Calculador de Éxito utiliza esos datos para aplicar la lógica.\n",
    "\n",
    "### 🪪 Rol 1: El Planificador (Estudiante A)\n",
    "\n",
    "Tu trabajo es ingresar el presupuesto inicial, definir los costos de la cita y la naturaleza de la actividad.\n",
    "\n",
    "| Paso | Tarea del Planificador | Conceptos Aplicados |\n",
    "| :--- | :--- | :--- |\n",
    "| **A. Presupuesto** | El presupuesto máximo es de **$75.00**. | **`float`** |\n",
    "| **B. Costos** | Ingresa los costos de las dos partes de la cita (usa números decimales). | **`input()`** y **`float()`** |\n",
    "| **C. Suma** | Calcula el **`gasto_total`** usando el operador `+`. | **Operador Matemático** |\n",
    "| **D. Preferencia** | Decide si la actividad elegida es **Tranquila** (`True`) o **Animada** (`False`). | **`bool`** |\n",
    "\n",
    "### 🧮 Rol 2: El Cálculo de Éxito (Estudiante B)\n",
    "\n",
    "Tu trabajo es definir las reglas lógicas y usarlas para evaluar el plan.\n",
    "\n",
    "| Paso | Tarea del Cálculo de Éxito | Conceptos Aplicados |\n",
    "| :--- | :--- | :--- |\n",
    "| **A. Presupuesto OK** | Usa el operador de comparación **`<=`** para ver si el `gasto_total` está dentro del presupuesto. | **Operador de Comparación** |\n",
    "| **B. Preferencia OK** | Usa el operador de comparación **`==`** para ver si la actividad elegida coincide con la preferencia. | **Operador de Comparación** |\n",
    "| **C. Éxito Final** | La cita es un éxito si se cumplieron **AMBAS** condiciones anteriores. Usa el operador lógico **`and`** para obtener el resultado final. | **Operador Lógico `and`** |\n"
   ]
  },
  {
   "cell_type": "code",
   "execution_count": 23,
   "metadata": {},
   "outputs": [
    {
     "name": "stdout",
     "output_type": "stream",
     "text": [
      "--- PLANIFICACIÓN DE LA CITA ---\n",
      "Gasto Total de la Cita: $100.00\n"
     ]
    }
   ],
   "source": [
    "\n",
    "# =======================================================\n",
    "# DESAFÍO DE LA CITA PERFECTA (CÓDIGO)\n",
    "# =======================================================\n",
    "\n",
    "### 1. ROL: PLANIFICADOR (Estudiante A)\n",
    "\n",
    "# A. Definir el presupuesto 'presupuesto_maximo'\n",
    "### COMPLETAR ###\n",
    "presupuesto_maximo = 75.00\n",
    "\n",
    "# B. Planificación y Costos (usar input y conversión a float)\n",
    "\n",
    "print(\"--- PLANIFICACIÓN DE LA CITA ---\")\n",
    "\n",
    "# Costo de la actividad principal\n",
    "costo_actividad_str = input(\"Costo de la actividad principal: $\")\n",
    "### COMPLETAR CONVERTIR ### costo_actividad\n",
    "costo_actividad = float(costo_actividad_str)\n",
    "\n",
    "\n",
    "\n",
    "# Costo de transporte o postre\n",
    "costo_extra_str = input(\"Costo de transporte o extra: $\")\n",
    "### COMPLETAR  CONVERTIR ### costo_extra\n",
    "costo_extra = float(costo_actividad_str)\n",
    "\n",
    "\n",
    "# C. Cálculo de Gastos (Operadores Matemáticos)\n",
    "gasto_total = costo_actividad + costo_extra ### COMPLETAR: Calcular la suma de los costos ###\n",
    "\n",
    "\n",
    "\n",
    "print(f\"Gasto Total de la Cita: ${gasto_total:.2f}\")\n",
    "\n",
    "# D. Preferencias de la otra persona (Booleanos)\n",
    "# La otra persona prefiere una actividad tranquila (True)\n",
    "prefiere_tranquilo = True\n",
    "\n",
    "\n",
    "# ¿La actividad elegida es tranquila? (Decisión del Planificador)\n",
    "actividad_es_tranquila = True ### COMPLETAR: True si eligieron algo tranquilo, False si es animado ###True\n",
    "\n"
   ]
  },
  {
   "cell_type": "markdown",
   "metadata": {},
   "source": [
    "# ------------------------------------------\n",
    "# =======================================================\n",
    "### 2. ROL: CÁLCULO DE ÉXITO (Estudiante B)\n",
    "\n",
    "print(\"\\n--- EVALUACIÓN DE ÉXITO ---\")\n",
    "\n",
    "# A. Condición de Presupuesto (Operadores de Comparación)\n",
    "# ¿El gasto total fue MENOR O IGUAL al presupuesto máximo?\n",
    "### COMPLETAR: Comparar gasto_total con presupuesto_maximo ###\n",
    "print(f\"1. Presupuesto OK? {presupuesto_ok}\")\n",
    "\n",
    "\n",
    "# B. Condición de Preferencia (Operador de Comparación)\n",
    "# ¿La actividad elegida (actividad_es_tranquila) coincide con la preferencia (prefiere_tranquilo)?\n",
    "### COMPLETAR: Comparar las dos variables booleanas ###\n",
    "print(f\"2. Preferencia OK? {preferencia_ok}\")\n",
    "\n",
    "\n",
    "# C. Éxito Final (Operador Lógico AND)\n",
    "# La cita es exitosa si el presupuesto fue OK Y la preferencia fue OK.\n",
    "### COMPLETAR: Usar AND para combinar las dos condiciones ###\n",
    "\n",
    "print(\"------------------------------------------\")\n",
    "print(f\"ÉXITO TOTAL DE LA CITA: {exito_final}\")\n",
    "\n"
   ]
  }
 ],
 "metadata": {
  "kernelspec": {
   "display_name": "Python 3",
   "language": "python",
   "name": "python3"
  },
  "language_info": {
   "codemirror_mode": {
    "name": "ipython",
    "version": 3
   },
   "file_extension": ".py",
   "mimetype": "text/x-python",
   "name": "python",
   "nbconvert_exporter": "python",
   "pygments_lexer": "ipython3",
   "version": "3.13.7"
  }
 },
 "nbformat": 4,
 "nbformat_minor": 2
}
